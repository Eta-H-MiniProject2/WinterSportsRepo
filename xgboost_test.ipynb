{
 "cells": [
  {
   "cell_type": "code",
   "execution_count": 351,
   "metadata": {},
   "outputs": [],
   "source": [
    "import pandas as pd\n",
    "import numpy as np\n",
    "import joblib"
   ]
  },
  {
   "cell_type": "code",
   "execution_count": 352,
   "metadata": {},
   "outputs": [],
   "source": [
    "import pandas as pd\n",
    "import numpy as np\n",
    "import joblib\n",
    "from datetime import datetime, timedelta\n",
    "from sklearn.ensemble import HistGradientBoostingRegressor\n",
    "from sklearn.model_selection import train_test_split\n",
    "from sklearn.metrics import mean_absolute_error"
   ]
  },
  {
   "cell_type": "code",
   "execution_count": 353,
   "metadata": {},
   "outputs": [],
   "source": [
    "#df = pd.read_csv('data_by_location/Kasurila_data.csv') # Error 8.88\n",
    "#df = pd.read_csv('data_by_location/Levi_data.csv') # Error 17.05\n",
    "#df = pd.read_csv('data_by_location/Luosto_data.csv') # Error 13.97\n",
    "#df = pd.read_csv('data_by_location/Messila_data.csv') # Error 6.61\n",
    "#df = pd.read_csv('data_by_location/Mustavaara_data.csv') # Error 9.38\n",
    "#df = pd.read_csv('data_by_location/Ounasvaara_data.csv') # Error 12.27\n",
    "#df = pd.read_csv('data_by_location/Purnu_data.csv') # Error 8.10\n",
    "#df = pd.read_csv('data_by_location/Ruka_data.csv') # Error 11.46\n",
    "#df = pd.read_csv('data_by_location/Ruunarinteet_data.csv') # Error 7.28\n",
    "#df = pd.read_csv('data_by_location/Salla_data.csv') # Error 13.26"
   ]
  },
  {
   "cell_type": "code",
   "execution_count": 354,
   "metadata": {},
   "outputs": [],
   "source": [
    "# Step 1: Enhance your data preprocessing to extract temporal features\n",
    "def preprocess_with_time_features(file_path):\n",
    "    df = pd.read_csv(file_path)\n",
    "    \n",
    "    # Remove duplicates\n",
    "    df = df.drop_duplicates(subset=['date'], keep='last')\n",
    "    \n",
    "    # Handle missing values\n",
    "    df.replace(to_replace='-', value=np.nan, inplace=True)\n",
    "    df.snow_depth_cm = df.snow_depth_cm.replace(to_replace='-1', value='0')\n",
    "    \n",
    "    # Convert to numeric\n",
    "    df['avg_temp_c'] = pd.to_numeric(df['avg_temp_c'], errors='coerce')\n",
    "    df['snow_depth_cm'] = pd.to_numeric(df['snow_depth_cm'], errors='coerce')\n",
    "    df['uv_index'] = pd.to_numeric(df['uv_index'], errors='coerce')\n",
    "    \n",
    "    # Convert date string to datetime object\n",
    "    df['date'] = pd.to_datetime(df['date'])\n",
    "    \n",
    "    # Extract time-based features\n",
    "    df['year'] = df['date'].dt.year\n",
    "    df['month'] = df['date'].dt.month\n",
    "    df['day'] = df['date'].dt.day\n",
    "    df['day_of_year'] = df['date'].dt.dayofyear\n",
    "    \n",
    "    # Drop rows with missing target values\n",
    "    df = df.dropna(subset=['snow_depth_cm'])\n",
    "    \n",
    "    return df\n",
    "\n",
    "# Step 2: Combine datasets with time features\n",
    "datasets = [\n",
    "    'data_by_location/Messila_data.csv',\n",
    "    'data_by_location/Purnu_data.csv',\n",
    "    'data_by_location/Ruunarinteet_data.csv',\n",
    "    'data_by_location/Kasurila_data.csv'\n",
    "]\n",
    "\n",
    "all_data = []\n",
    "for dataset in datasets:\n",
    "    try:\n",
    "        df = preprocess_with_time_features(dataset)\n",
    "        all_data.append(df)\n",
    "    except Exception as e:\n",
    "        print(f\"Error processing {dataset}: {e}\")\n",
    "\n",
    "combined_df = pd.concat(all_data)\n",
    "\n",
    "# Step 3: Create features including time components\n",
    "X = combined_df[['avg_temp_c', 'uv_index', 'cloud_cover_rate', 'month', 'day_of_year']]\n",
    "y = combined_df['snow_depth_cm']"
   ]
  },
  {
   "cell_type": "code",
   "execution_count": 355,
   "metadata": {},
   "outputs": [
    {
     "data": {
      "text/plain": [
       "Index(['date', 'snow_depth_cm', 'avg_temp_c', 'uv_index', 'cloud_cover_rate',\n",
       "       'cloud_cover', 'location', 'year', 'month', 'day', 'day_of_year'],\n",
       "      dtype='object')"
      ]
     },
     "execution_count": 355,
     "metadata": {},
     "output_type": "execute_result"
    }
   ],
   "source": [
    "df.columns"
   ]
  },
  {
   "cell_type": "code",
   "execution_count": 356,
   "metadata": {},
   "outputs": [
    {
     "data": {
      "text/html": [
       "<div>\n",
       "<style scoped>\n",
       "    .dataframe tbody tr th:only-of-type {\n",
       "        vertical-align: middle;\n",
       "    }\n",
       "\n",
       "    .dataframe tbody tr th {\n",
       "        vertical-align: top;\n",
       "    }\n",
       "\n",
       "    .dataframe thead th {\n",
       "        text-align: right;\n",
       "    }\n",
       "</style>\n",
       "<table border=\"1\" class=\"dataframe\">\n",
       "  <thead>\n",
       "    <tr style=\"text-align: right;\">\n",
       "      <th></th>\n",
       "      <th>date</th>\n",
       "      <th>snow_depth_cm</th>\n",
       "      <th>avg_temp_c</th>\n",
       "      <th>uv_index</th>\n",
       "      <th>cloud_cover_rate</th>\n",
       "      <th>cloud_cover</th>\n",
       "      <th>location</th>\n",
       "      <th>year</th>\n",
       "      <th>month</th>\n",
       "      <th>day</th>\n",
       "      <th>day_of_year</th>\n",
       "    </tr>\n",
       "  </thead>\n",
       "  <tbody>\n",
       "    <tr>\n",
       "      <th>8028</th>\n",
       "      <td>2025-03-02</td>\n",
       "      <td>20.0</td>\n",
       "      <td>0.2</td>\n",
       "      <td>NaN</td>\n",
       "      <td>8.0</td>\n",
       "      <td>Cloudy</td>\n",
       "      <td>Kasurila</td>\n",
       "      <td>2025</td>\n",
       "      <td>3</td>\n",
       "      <td>2</td>\n",
       "      <td>61</td>\n",
       "    </tr>\n",
       "    <tr>\n",
       "      <th>7159</th>\n",
       "      <td>2022-10-15</td>\n",
       "      <td>0.0</td>\n",
       "      <td>9.4</td>\n",
       "      <td>0.1</td>\n",
       "      <td>8.0</td>\n",
       "      <td>Cloudy</td>\n",
       "      <td>Kasurila</td>\n",
       "      <td>2022</td>\n",
       "      <td>10</td>\n",
       "      <td>15</td>\n",
       "      <td>288</td>\n",
       "    </tr>\n",
       "    <tr>\n",
       "      <th>1704</th>\n",
       "      <td>2007-11-08</td>\n",
       "      <td>6.0</td>\n",
       "      <td>0.8</td>\n",
       "      <td>0.0</td>\n",
       "      <td>7.0</td>\n",
       "      <td>Mostly cloudy</td>\n",
       "      <td>Kasurila</td>\n",
       "      <td>2007</td>\n",
       "      <td>11</td>\n",
       "      <td>8</td>\n",
       "      <td>312</td>\n",
       "    </tr>\n",
       "    <tr>\n",
       "      <th>5731</th>\n",
       "      <td>2018-11-17</td>\n",
       "      <td>0.0</td>\n",
       "      <td>5.8</td>\n",
       "      <td>0.0</td>\n",
       "      <td>7.0</td>\n",
       "      <td>Mostly cloudy</td>\n",
       "      <td>Kasurila</td>\n",
       "      <td>2018</td>\n",
       "      <td>11</td>\n",
       "      <td>17</td>\n",
       "      <td>321</td>\n",
       "    </tr>\n",
       "    <tr>\n",
       "      <th>2626</th>\n",
       "      <td>2010-05-18</td>\n",
       "      <td>0.0</td>\n",
       "      <td>18.4</td>\n",
       "      <td>NaN</td>\n",
       "      <td>7.0</td>\n",
       "      <td>Mostly cloudy</td>\n",
       "      <td>Kasurila</td>\n",
       "      <td>2010</td>\n",
       "      <td>5</td>\n",
       "      <td>18</td>\n",
       "      <td>138</td>\n",
       "    </tr>\n",
       "    <tr>\n",
       "      <th>3542</th>\n",
       "      <td>2012-11-19</td>\n",
       "      <td>0.0</td>\n",
       "      <td>3.3</td>\n",
       "      <td>0.0</td>\n",
       "      <td>8.0</td>\n",
       "      <td>Cloudy</td>\n",
       "      <td>Kasurila</td>\n",
       "      <td>2012</td>\n",
       "      <td>11</td>\n",
       "      <td>19</td>\n",
       "      <td>324</td>\n",
       "    </tr>\n",
       "    <tr>\n",
       "      <th>1953</th>\n",
       "      <td>2008-07-14</td>\n",
       "      <td>0.0</td>\n",
       "      <td>18.3</td>\n",
       "      <td>1.0</td>\n",
       "      <td>3.0</td>\n",
       "      <td>Mostly clear</td>\n",
       "      <td>Kasurila</td>\n",
       "      <td>2008</td>\n",
       "      <td>7</td>\n",
       "      <td>14</td>\n",
       "      <td>196</td>\n",
       "    </tr>\n",
       "    <tr>\n",
       "      <th>7736</th>\n",
       "      <td>2024-05-14</td>\n",
       "      <td>0.0</td>\n",
       "      <td>14.9</td>\n",
       "      <td>NaN</td>\n",
       "      <td>8.0</td>\n",
       "      <td>Cloudy</td>\n",
       "      <td>Kasurila</td>\n",
       "      <td>2024</td>\n",
       "      <td>5</td>\n",
       "      <td>14</td>\n",
       "      <td>135</td>\n",
       "    </tr>\n",
       "    <tr>\n",
       "      <th>2147</th>\n",
       "      <td>2009-01-24</td>\n",
       "      <td>20.0</td>\n",
       "      <td>-8.8</td>\n",
       "      <td>0.0</td>\n",
       "      <td>5.0</td>\n",
       "      <td>Partly cloudy</td>\n",
       "      <td>Kasurila</td>\n",
       "      <td>2009</td>\n",
       "      <td>1</td>\n",
       "      <td>24</td>\n",
       "      <td>24</td>\n",
       "    </tr>\n",
       "    <tr>\n",
       "      <th>7575</th>\n",
       "      <td>2023-12-05</td>\n",
       "      <td>22.0</td>\n",
       "      <td>-15.6</td>\n",
       "      <td>0.0</td>\n",
       "      <td>0.0</td>\n",
       "      <td>Clear</td>\n",
       "      <td>Kasurila</td>\n",
       "      <td>2023</td>\n",
       "      <td>12</td>\n",
       "      <td>5</td>\n",
       "      <td>339</td>\n",
       "    </tr>\n",
       "    <tr>\n",
       "      <th>2558</th>\n",
       "      <td>2010-03-11</td>\n",
       "      <td>75.0</td>\n",
       "      <td>-0.3</td>\n",
       "      <td>NaN</td>\n",
       "      <td>8.0</td>\n",
       "      <td>Cloudy</td>\n",
       "      <td>Kasurila</td>\n",
       "      <td>2010</td>\n",
       "      <td>3</td>\n",
       "      <td>11</td>\n",
       "      <td>70</td>\n",
       "    </tr>\n",
       "    <tr>\n",
       "      <th>3593</th>\n",
       "      <td>2013-01-09</td>\n",
       "      <td>38.0</td>\n",
       "      <td>-2.4</td>\n",
       "      <td>0.0</td>\n",
       "      <td>8.0</td>\n",
       "      <td>Cloudy</td>\n",
       "      <td>Kasurila</td>\n",
       "      <td>2013</td>\n",
       "      <td>1</td>\n",
       "      <td>9</td>\n",
       "      <td>9</td>\n",
       "    </tr>\n",
       "    <tr>\n",
       "      <th>6100</th>\n",
       "      <td>2019-11-21</td>\n",
       "      <td>0.0</td>\n",
       "      <td>3.2</td>\n",
       "      <td>0.0</td>\n",
       "      <td>7.0</td>\n",
       "      <td>Mostly cloudy</td>\n",
       "      <td>Kasurila</td>\n",
       "      <td>2019</td>\n",
       "      <td>11</td>\n",
       "      <td>21</td>\n",
       "      <td>325</td>\n",
       "    </tr>\n",
       "    <tr>\n",
       "      <th>7266</th>\n",
       "      <td>2023-01-30</td>\n",
       "      <td>34.0</td>\n",
       "      <td>0.4</td>\n",
       "      <td>0.0</td>\n",
       "      <td>8.0</td>\n",
       "      <td>Cloudy</td>\n",
       "      <td>Kasurila</td>\n",
       "      <td>2023</td>\n",
       "      <td>1</td>\n",
       "      <td>30</td>\n",
       "      <td>30</td>\n",
       "    </tr>\n",
       "    <tr>\n",
       "      <th>3744</th>\n",
       "      <td>2013-06-09</td>\n",
       "      <td>0.0</td>\n",
       "      <td>15.5</td>\n",
       "      <td>1.0</td>\n",
       "      <td>7.0</td>\n",
       "      <td>Mostly cloudy</td>\n",
       "      <td>Kasurila</td>\n",
       "      <td>2013</td>\n",
       "      <td>6</td>\n",
       "      <td>9</td>\n",
       "      <td>160</td>\n",
       "    </tr>\n",
       "  </tbody>\n",
       "</table>\n",
       "</div>"
      ],
      "text/plain": [
       "           date  snow_depth_cm  avg_temp_c  uv_index  cloud_cover_rate  \\\n",
       "8028 2025-03-02           20.0         0.2       NaN               8.0   \n",
       "7159 2022-10-15            0.0         9.4       0.1               8.0   \n",
       "1704 2007-11-08            6.0         0.8       0.0               7.0   \n",
       "5731 2018-11-17            0.0         5.8       0.0               7.0   \n",
       "2626 2010-05-18            0.0        18.4       NaN               7.0   \n",
       "3542 2012-11-19            0.0         3.3       0.0               8.0   \n",
       "1953 2008-07-14            0.0        18.3       1.0               3.0   \n",
       "7736 2024-05-14            0.0        14.9       NaN               8.0   \n",
       "2147 2009-01-24           20.0        -8.8       0.0               5.0   \n",
       "7575 2023-12-05           22.0       -15.6       0.0               0.0   \n",
       "2558 2010-03-11           75.0        -0.3       NaN               8.0   \n",
       "3593 2013-01-09           38.0        -2.4       0.0               8.0   \n",
       "6100 2019-11-21            0.0         3.2       0.0               7.0   \n",
       "7266 2023-01-30           34.0         0.4       0.0               8.0   \n",
       "3744 2013-06-09            0.0        15.5       1.0               7.0   \n",
       "\n",
       "        cloud_cover  location  year  month  day  day_of_year  \n",
       "8028         Cloudy  Kasurila  2025      3    2           61  \n",
       "7159         Cloudy  Kasurila  2022     10   15          288  \n",
       "1704  Mostly cloudy  Kasurila  2007     11    8          312  \n",
       "5731  Mostly cloudy  Kasurila  2018     11   17          321  \n",
       "2626  Mostly cloudy  Kasurila  2010      5   18          138  \n",
       "3542         Cloudy  Kasurila  2012     11   19          324  \n",
       "1953   Mostly clear  Kasurila  2008      7   14          196  \n",
       "7736         Cloudy  Kasurila  2024      5   14          135  \n",
       "2147  Partly cloudy  Kasurila  2009      1   24           24  \n",
       "7575          Clear  Kasurila  2023     12    5          339  \n",
       "2558         Cloudy  Kasurila  2010      3   11           70  \n",
       "3593         Cloudy  Kasurila  2013      1    9            9  \n",
       "6100  Mostly cloudy  Kasurila  2019     11   21          325  \n",
       "7266         Cloudy  Kasurila  2023      1   30           30  \n",
       "3744  Mostly cloudy  Kasurila  2013      6    9          160  "
      ]
     },
     "execution_count": 356,
     "metadata": {},
     "output_type": "execute_result"
    }
   ],
   "source": [
    "df.sample(15)"
   ]
  },
  {
   "cell_type": "code",
   "execution_count": 357,
   "metadata": {},
   "outputs": [
    {
     "data": {
      "text/plain": [
       "cloud_cover\n",
       "Clear                              2370\n",
       "Mostly cloudy                      2097\n",
       "Cloudy                             1864\n",
       "Partly cloudy                       355\n",
       "Mostly clear                        276\n",
       "Cloudiness cannot be determined      76\n",
       "Name: count, dtype: int64"
      ]
     },
     "execution_count": 357,
     "metadata": {},
     "output_type": "execute_result"
    }
   ],
   "source": [
    "df.cloud_cover.value_counts()"
   ]
  },
  {
   "cell_type": "code",
   "execution_count": 358,
   "metadata": {},
   "outputs": [],
   "source": [
    "df.replace(to_replace='-', value=np.nan, inplace=True)"
   ]
  },
  {
   "cell_type": "code",
   "execution_count": 359,
   "metadata": {},
   "outputs": [],
   "source": [
    "df.snow_depth_cm = df.snow_depth_cm.replace(to_replace='-1', value='0')"
   ]
  },
  {
   "cell_type": "code",
   "execution_count": 360,
   "metadata": {},
   "outputs": [
    {
     "data": {
      "text/plain": [
       "cloud_cover\n",
       "Clear                              2370\n",
       "Mostly cloudy                      2097\n",
       "Cloudy                             1864\n",
       "Partly cloudy                       355\n",
       "Mostly clear                        276\n",
       "Cloudiness cannot be determined      76\n",
       "Name: count, dtype: int64"
      ]
     },
     "execution_count": 360,
     "metadata": {},
     "output_type": "execute_result"
    }
   ],
   "source": [
    "df.cloud_cover.value_counts()"
   ]
  },
  {
   "cell_type": "code",
   "execution_count": 361,
   "metadata": {},
   "outputs": [],
   "source": [
    "from xgboost import XGBRegressor\n",
    "from sklearn.model_selection import train_test_split\n",
    "from sklearn.metrics import mean_absolute_error"
   ]
  },
  {
   "cell_type": "code",
   "execution_count": 362,
   "metadata": {},
   "outputs": [
    {
     "data": {
      "text/plain": [
       "Index(['date', 'snow_depth_cm', 'avg_temp_c', 'uv_index', 'cloud_cover_rate',\n",
       "       'cloud_cover', 'location', 'year', 'month', 'day', 'day_of_year'],\n",
       "      dtype='object')"
      ]
     },
     "execution_count": 362,
     "metadata": {},
     "output_type": "execute_result"
    }
   ],
   "source": [
    "df.columns"
   ]
  },
  {
   "cell_type": "code",
   "execution_count": 363,
   "metadata": {},
   "outputs": [
    {
     "data": {
      "text/plain": [
       "date                datetime64[ns]\n",
       "snow_depth_cm              float64\n",
       "avg_temp_c                 float64\n",
       "uv_index                   float64\n",
       "cloud_cover_rate           float64\n",
       "cloud_cover                 object\n",
       "location                    object\n",
       "year                         int32\n",
       "month                        int32\n",
       "day                          int32\n",
       "day_of_year                  int32\n",
       "dtype: object"
      ]
     },
     "execution_count": 363,
     "metadata": {},
     "output_type": "execute_result"
    }
   ],
   "source": [
    "df.dtypes"
   ]
  },
  {
   "cell_type": "code",
   "execution_count": 364,
   "metadata": {},
   "outputs": [
    {
     "data": {
      "text/plain": [
       "avg_temp_c\n",
       " 0.5     53\n",
       " 1.7     49\n",
       " 0.7     49\n",
       " 0.3     45\n",
       " 0.8     44\n",
       "         ..\n",
       "-24.7     1\n",
       "-28.0     1\n",
       "-22.1     1\n",
       " 25.8     1\n",
       "-20.5     1\n",
       "Name: count, Length: 520, dtype: int64"
      ]
     },
     "execution_count": 364,
     "metadata": {},
     "output_type": "execute_result"
    }
   ],
   "source": [
    "df.avg_temp_c.value_counts()"
   ]
  },
  {
   "cell_type": "code",
   "execution_count": 365,
   "metadata": {},
   "outputs": [
    {
     "data": {
      "text/plain": [
       "snow_depth_cm\n",
       "0.0     4198\n",
       "2.0       93\n",
       "3.0       84\n",
       "4.0       78\n",
       "5.0       70\n",
       "        ... \n",
       "85.0       1\n",
       "84.0       1\n",
       "95.0       1\n",
       "93.0       1\n",
       "91.0       1\n",
       "Name: count, Length: 90, dtype: int64"
      ]
     },
     "execution_count": 365,
     "metadata": {},
     "output_type": "execute_result"
    }
   ],
   "source": [
    "df.snow_depth_cm.value_counts()"
   ]
  },
  {
   "cell_type": "code",
   "execution_count": 366,
   "metadata": {},
   "outputs": [],
   "source": [
    "# Remove duplicates\n",
    "combined_df = combined_df.drop_duplicates(subset=['date'], keep='last')"
   ]
  },
  {
   "cell_type": "code",
   "execution_count": 367,
   "metadata": {},
   "outputs": [],
   "source": [
    "combined_df['avg_temp_c'] = pd.to_numeric(combined_df['avg_temp_c'], errors='coerce')"
   ]
  },
  {
   "cell_type": "code",
   "execution_count": 368,
   "metadata": {},
   "outputs": [],
   "source": [
    "combined_df['uv_index'] = pd.to_numeric(combined_df['uv_index'], errors='coerce')"
   ]
  },
  {
   "cell_type": "code",
   "execution_count": 369,
   "metadata": {},
   "outputs": [],
   "source": [
    "combined_df = combined_df.dropna(subset=['avg_temp_c'])\n",
    "combined_df = combined_df.dropna(subset=['snow_depth_cm'])"
   ]
  },
  {
   "cell_type": "code",
   "execution_count": 370,
   "metadata": {},
   "outputs": [],
   "source": [
    "# Only values after 2006\n",
    "selector = combined_df['date'] >= '2006-01-01'\n",
    "combined_df = combined_df[combined_df['date'] >= '2006-01-01']"
   ]
  },
  {
   "cell_type": "code",
   "execution_count": 371,
   "metadata": {},
   "outputs": [],
   "source": [
    "# Create lag features\n",
    "\n",
    "combined_df['snow_depth_1d_ago'] = combined_df.groupby('location')['snow_depth_cm'].shift(1)\n",
    "\n",
    "combined_df['snow_depth_7d_ago'] = combined_df.groupby('location')['snow_depth_cm'].shift(7)\n",
    "\n",
    "combined_df['snow_depth_365d_ago'] = combined_df.groupby('location')['snow_depth_cm'].shift(365)\n",
    " "
   ]
  },
  {
   "cell_type": "code",
   "execution_count": 372,
   "metadata": {},
   "outputs": [],
   "source": [
    "# Convert date string to datetime object\n",
    "combined_df['date'] = pd.to_datetime(combined_df['date'])\n",
    "    \n",
    "# Extract time-based features\n",
    "combined_df['year'] = combined_df['date'].dt.year\n",
    "combined_df['month'] = combined_df['date'].dt.month\n",
    "combined_df['day'] = combined_df['date'].dt.day\n",
    "combined_df['day_of_year'] = combined_df['date'].dt.dayofyear"
   ]
  },
  {
   "cell_type": "code",
   "execution_count": 373,
   "metadata": {},
   "outputs": [
    {
     "data": {
      "text/plain": [
       "['snow_depth_time_model.joblib']"
      ]
     },
     "execution_count": 373,
     "metadata": {},
     "output_type": "execute_result"
    }
   ],
   "source": [
    "# Create an XGBoost regressor model\n",
    "model = XGBRegressor(n_estimators=100, learning_rate=0.1, random_state=42)\n",
    "\n",
    "X = combined_df[['avg_temp_c', 'cloud_cover_rate','uv_index', 'snow_depth_1d_ago', 'snow_depth_7d_ago', 'snow_depth_365d_ago', 'year', 'month', 'day', 'day_of_year']]  # Features \n",
    "y = combined_df['snow_depth_cm']  # Target variable (snow depth)\n",
    "\n",
    "# Split into training (80%) and test (20%) data\n",
    "X_train, X_test, y_train, y_test = train_test_split(X, y, test_size=0.2, random_state=42)\n",
    "\n",
    "# Train the model on the training data\n",
    "model.fit(X_train, y_train)\n",
    "\n",
    "joblib.dump(model, 'snow_depth_time_model.joblib')"
   ]
  },
  {
   "cell_type": "code",
   "execution_count": 374,
   "metadata": {},
   "outputs": [],
   "source": [
    "predictions = model.predict(X_test)"
   ]
  },
  {
   "cell_type": "code",
   "execution_count": 375,
   "metadata": {},
   "outputs": [
    {
     "name": "stdout",
     "output_type": "stream",
     "text": [
      "Mean Absolute Error: 0.7622424854641255\n",
      "Mean Squared Error: 2.729005712950477\n"
     ]
    }
   ],
   "source": [
    "from sklearn.metrics import mean_squared_error\n",
    "\n",
    "# Calculate Mean Absolute Error (MAE)\n",
    "mae = mean_absolute_error(y_test, predictions)\n",
    "print(f\"Mean Absolute Error: {mae}\")\n",
    "\n",
    "mse = mean_squared_error(y_test, predictions)\n",
    "print(f\"Mean Squared Error: {mse}\")"
   ]
  },
  {
   "cell_type": "code",
   "execution_count": 376,
   "metadata": {},
   "outputs": [
    {
     "name": "stderr",
     "output_type": "stream",
     "text": [
      "C:\\Users\\vuojo\\AppData\\Local\\Temp\\ipykernel_2188\\889862500.py:48: FutureWarning: DataFrame.fillna with 'method' is deprecated and will raise in a future version. Use obj.ffill() or obj.bfill() instead.\n",
      "  future_df = future_df.fillna(method='ffill').fillna(method='bfill')\n"
     ]
    }
   ],
   "source": [
    "# Step 5: Function to predict future years\n",
    "def predict_future_snow_depth(model, start_date, days=3650, location_data=None):\n",
    "    \"\"\"\n",
    "    Predict snow depth for future dates\n",
    "    \n",
    "    Parameters:\n",
    "    - model: Trained model\n",
    "    - start_date: Start date for predictions (string YYYY-MM-DD or datetime)\n",
    "    - days: Number of days to predict forward\n",
    "    - location_data: Sample data from a location to use as base values\n",
    "    \n",
    "    Returns:\n",
    "    - DataFrame with dates and predicted snow depths\n",
    "    \"\"\"\n",
    "    if isinstance(start_date, str):\n",
    "        start_date = pd.to_datetime(start_date)\n",
    "    \n",
    "    # Create date range\n",
    "    future_dates = [start_date + timedelta(days=i) for i in range(days)]\n",
    "    future_df = pd.DataFrame({'date': future_dates})\n",
    "    # Create lag features\n",
    "\n",
    "    future_df['snow_depth_1d_ago'] = combined_df.groupby('location')['snow_depth_cm'].shift(1)\n",
    "\n",
    "    future_df['snow_depth_7d_ago'] = combined_df.groupby('location')['snow_depth_cm'].shift(7)\n",
    "\n",
    "    future_df['snow_depth_365d_ago'] = combined_df.groupby('location')['snow_depth_cm'].shift(365)\n",
    "    \n",
    "    # Extract time features\n",
    "    future_df['year'] = future_df['date'].dt.year\n",
    "    future_df['month'] = future_df['date'].dt.month\n",
    "    future_df['day'] = future_df['date'].dt.day\n",
    "    future_df['day_of_year'] = future_df['date'].dt.dayofyear\n",
    "    \n",
    "    # Generate weather features based on historical averages by day of year\n",
    "    if location_data is not None:\n",
    "        # Group location data by day of year and get averages\n",
    "        daily_averages = location_data.groupby('day_of_year').agg({\n",
    "            'avg_temp_c': 'mean',\n",
    "            'uv_index': 'mean',\n",
    "            'cloud_cover_rate': 'mean'\n",
    "        }).reset_index()\n",
    "        \n",
    "        # Merge with future dates\n",
    "        future_df = future_df.merge(daily_averages, on='day_of_year', how='left')\n",
    "        \n",
    "        # For days not in historical data, use nearest day\n",
    "        future_df = future_df.fillna(method='ffill').fillna(method='bfill')\n",
    "    else:\n",
    "        # If no location data is provided, use seasonal patterns\n",
    "        # This is simplified - would be better with actual historical weather data\n",
    "        future_df['month_rad'] = future_df['month'] * 2 * np.pi / 12\n",
    "        \n",
    "        # Temperature follows seasonal cycle (simplified model)\n",
    "        # Northern hemisphere: coldest in Jan/Feb, warmest in Jul/Aug\n",
    "        future_df['avg_temp_c'] = -10 * np.cos(future_df['month_rad']) + 5\n",
    "        \n",
    "        # UV follows similar seasonal pattern\n",
    "        future_df['uv_index'] = 3 * np.cos((future_df['month_rad'] + np.pi)) + 3\n",
    "        \n",
    "        # Cloud cover (simplified)\n",
    "        future_df['cloud_cover_rate'] = 0.5 + 0.2 * np.sin(future_df['month_rad'])\n",
    "    \n",
    "    # Prepare features for prediction in the same format as training data\n",
    "    X_future = future_df[['avg_temp_c', 'cloud_cover_rate','uv_index', 'snow_depth_1d_ago', 'snow_depth_7d_ago', 'snow_depth_365d_ago', 'year', 'month', 'day', 'day_of_year']]\n",
    "    \n",
    "    # Make predictions\n",
    "    future_df['predicted_snow_depth'] = model.predict(X_future)\n",
    "    \n",
    "    # Ensure non-negative snow depths\n",
    "    future_df['predicted_snow_depth'] = future_df['predicted_snow_depth'].clip(lower=0)\n",
    "    \n",
    "    return future_df[['date', 'predicted_snow_depth', 'avg_temp_c', 'uv_index', 'cloud_cover_rate']]\n",
    "\n",
    "# Example usage:\n",
    "# 1. Load a sample location dataset for reference weather patterns\n",
    "sample_location_salla = preprocess_with_time_features('data_by_location/Salla_data.csv')\n",
    "\n",
    "# 2. Load the trained model\n",
    "trained_model = joblib.load('snow_depth_time_model.joblib')\n",
    "\n",
    "# 3. Predict snow depth for next year starting from a specific date\n",
    "start_prediction_date = '2025-01-01'\n",
    "future_predictions_salla = predict_future_snow_depth(\n",
    "    model=trained_model,\n",
    "    start_date=start_prediction_date,\n",
    "    days=3650,\n",
    "    location_data=sample_location_salla\n",
    ")"
   ]
  },
  {
   "cell_type": "code",
   "execution_count": 377,
   "metadata": {},
   "outputs": [
    {
     "name": "stdout",
     "output_type": "stream",
     "text": [
      "Future predictions saved to snow_depth_predictions_2025.csv\n"
     ]
    }
   ],
   "source": [
    "future_predictions_salla.to_csv('snow_depth_predictions_salla_2025.csv', index=False)\n",
    "print(\"Future predictions saved to snow_depth_predictions_2025.csv\")"
   ]
  }
 ],
 "metadata": {
  "kernelspec": {
   "display_name": "Python 3",
   "language": "python",
   "name": "python3"
  },
  "language_info": {
   "codemirror_mode": {
    "name": "ipython",
    "version": 3
   },
   "file_extension": ".py",
   "mimetype": "text/x-python",
   "name": "python",
   "nbconvert_exporter": "python",
   "pygments_lexer": "ipython3",
   "version": "3.13.1"
  }
 },
 "nbformat": 4,
 "nbformat_minor": 2
}
