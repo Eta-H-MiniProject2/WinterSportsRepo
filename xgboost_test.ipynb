{
 "cells": [
  {
   "cell_type": "code",
   "execution_count": 404,
   "metadata": {},
   "outputs": [],
   "source": [
    "import pandas as pd\n",
    "import numpy as np\n",
    "import joblib\n",
    "from datetime import datetime, timedelta\n",
    "from sklearn.ensemble import HistGradientBoostingRegressor\n",
    "from sklearn.model_selection import train_test_split\n",
    "from sklearn.metrics import mean_absolute_error"
   ]
  },
  {
   "cell_type": "code",
   "execution_count": null,
   "metadata": {},
   "outputs": [],
   "source": []
  },
  {
   "cell_type": "code",
   "execution_count": 405,
   "metadata": {},
   "outputs": [],
   "source": [
    "#df = pd.read_csv('data_by_location/Kasurila_data.csv') # Error 8.88\n",
    "#df = pd.read_csv('data_by_location/Levi_data.csv') # Error 17.05\n",
    "#df = pd.read_csv('data_by_location/Luosto_data.csv') # Error 13.97\n",
    "#df = pd.read_csv('data_by_location/Messila_data.csv') # Error 6.61\n",
    "#df = pd.read_csv('data_by_location/Mustavaara_data.csv') # Error 9.38\n",
    "#df = pd.read_csv('data_by_location/Ounasvaara_data.csv') # Error 12.27\n",
    "#df = pd.read_csv('data_by_location/Purnu_data.csv') # Error 8.10\n",
    "#df = pd.read_csv('data_by_location/Ruka_data.csv') # Error 11.46\n",
    "#df = pd.read_csv('data_by_location/Ruunarinteet_data.csv') # Error 7.28\n",
    "#df = pd.read_csv('data_by_location/Salla_data.csv') # Error 13.26"
   ]
  },
  {
   "cell_type": "code",
   "execution_count": 406,
   "metadata": {},
   "outputs": [],
   "source": [
    "def preprocess_with_time_features(file_path):\n",
    "    df = pd.read_csv(file_path)\n",
    "    \n",
    "    # Remove duplicates\n",
    "    df = df.drop_duplicates(subset=['date'], keep='last')\n",
    "    \n",
    "    # Handle missing values\n",
    "    df.replace(to_replace='-', value=np.nan, inplace=True)\n",
    "    df.snow_depth_cm = df.snow_depth_cm.replace(to_replace='-1', value='0')\n",
    "    \n",
    "    # Convert to numeric\n",
    "    df['avg_temp_c'] = pd.to_numeric(df['avg_temp_c'], errors='coerce')\n",
    "    df['snow_depth_cm'] = pd.to_numeric(df['snow_depth_cm'], errors='coerce')\n",
    "    df['uv_index'] = pd.to_numeric(df['uv_index'], errors='coerce')\n",
    "    \n",
    "    # Convert date string to datetime object\n",
    "    df['date'] = pd.to_datetime(df['date'])\n",
    "    \n",
    "    # Extract time-based features\n",
    "    df['year'] = df['date'].dt.year\n",
    "    df['month'] = df['date'].dt.month\n",
    "    df['day'] = df['date'].dt.day\n",
    "    df['day_of_year'] = df['date'].dt.dayofyear\n",
    "    \n",
    "    # Drop rows with missing target values\n",
    "    df = df.dropna(subset=['snow_depth_cm'])\n",
    "    \n",
    "    return df\n",
    "\n",
    "# Step 2: Combine datasets with time features\n",
    "datasets = [\n",
    "    'data_by_location/Messila_data.csv',\n",
    "    'data_by_location/Purnu_data.csv',\n",
    "    'data_by_location/Ruunarinteet_data.csv',\n",
    "    'data_by_location/Kasurila_data.csv'\n",
    "]\n",
    "\n",
    "all_data = []\n",
    "for dataset in datasets:\n",
    "    try:\n",
    "        df = preprocess_with_time_features(dataset)\n",
    "        all_data.append(df)\n",
    "    except Exception as e:\n",
    "        print(f\"Error processing {dataset}: {e}\")\n",
    "\n",
    "combined_df = pd.concat(all_data)\n",
    "\n",
    "# Step 3: Create features including time components\n",
    "X = combined_df[['avg_temp_c', 'uv_index', 'cloud_cover_rate', 'month', 'day_of_year']]\n",
    "y = combined_df['snow_depth_cm']"
   ]
  },
  {
   "cell_type": "code",
   "execution_count": 407,
   "metadata": {},
   "outputs": [
    {
     "data": {
      "text/plain": [
       "Index(['date', 'snow_depth_cm', 'avg_temp_c', 'uv_index', 'cloud_cover_rate',\n",
       "       'cloud_cover', 'location', 'year', 'month', 'day', 'day_of_year'],\n",
       "      dtype='object')"
      ]
     },
     "execution_count": 407,
     "metadata": {},
     "output_type": "execute_result"
    }
   ],
   "source": [
    "df.columns"
   ]
  },
  {
   "cell_type": "code",
   "execution_count": 408,
   "metadata": {},
   "outputs": [
    {
     "data": {
      "text/html": [
       "<div>\n",
       "<style scoped>\n",
       "    .dataframe tbody tr th:only-of-type {\n",
       "        vertical-align: middle;\n",
       "    }\n",
       "\n",
       "    .dataframe tbody tr th {\n",
       "        vertical-align: top;\n",
       "    }\n",
       "\n",
       "    .dataframe thead th {\n",
       "        text-align: right;\n",
       "    }\n",
       "</style>\n",
       "<table border=\"1\" class=\"dataframe\">\n",
       "  <thead>\n",
       "    <tr style=\"text-align: right;\">\n",
       "      <th></th>\n",
       "      <th>date</th>\n",
       "      <th>snow_depth_cm</th>\n",
       "      <th>avg_temp_c</th>\n",
       "      <th>uv_index</th>\n",
       "      <th>cloud_cover_rate</th>\n",
       "      <th>cloud_cover</th>\n",
       "      <th>location</th>\n",
       "      <th>year</th>\n",
       "      <th>month</th>\n",
       "      <th>day</th>\n",
       "      <th>day_of_year</th>\n",
       "    </tr>\n",
       "  </thead>\n",
       "  <tbody>\n",
       "    <tr>\n",
       "      <th>4320</th>\n",
       "      <td>2015-01-06</td>\n",
       "      <td>25.0</td>\n",
       "      <td>-18.4</td>\n",
       "      <td>0.0</td>\n",
       "      <td>0.0</td>\n",
       "      <td>Clear</td>\n",
       "      <td>Kasurila</td>\n",
       "      <td>2015</td>\n",
       "      <td>1</td>\n",
       "      <td>6</td>\n",
       "      <td>6</td>\n",
       "    </tr>\n",
       "    <tr>\n",
       "      <th>3847</th>\n",
       "      <td>2013-09-20</td>\n",
       "      <td>0.0</td>\n",
       "      <td>13.6</td>\n",
       "      <td>0.1</td>\n",
       "      <td>7.0</td>\n",
       "      <td>Mostly cloudy</td>\n",
       "      <td>Kasurila</td>\n",
       "      <td>2013</td>\n",
       "      <td>9</td>\n",
       "      <td>20</td>\n",
       "      <td>263</td>\n",
       "    </tr>\n",
       "    <tr>\n",
       "      <th>1080</th>\n",
       "      <td>2006-02-22</td>\n",
       "      <td>55.0</td>\n",
       "      <td>-9.3</td>\n",
       "      <td>0.1</td>\n",
       "      <td>5.0</td>\n",
       "      <td>Partly cloudy</td>\n",
       "      <td>Kasurila</td>\n",
       "      <td>2006</td>\n",
       "      <td>2</td>\n",
       "      <td>22</td>\n",
       "      <td>53</td>\n",
       "    </tr>\n",
       "    <tr>\n",
       "      <th>4990</th>\n",
       "      <td>2016-11-06</td>\n",
       "      <td>3.0</td>\n",
       "      <td>-7.0</td>\n",
       "      <td>0.0</td>\n",
       "      <td>8.0</td>\n",
       "      <td>Cloudy</td>\n",
       "      <td>Kasurila</td>\n",
       "      <td>2016</td>\n",
       "      <td>11</td>\n",
       "      <td>6</td>\n",
       "      <td>311</td>\n",
       "    </tr>\n",
       "    <tr>\n",
       "      <th>4121</th>\n",
       "      <td>2014-06-21</td>\n",
       "      <td>0.0</td>\n",
       "      <td>9.7</td>\n",
       "      <td>1.0</td>\n",
       "      <td>7.0</td>\n",
       "      <td>Mostly cloudy</td>\n",
       "      <td>Kasurila</td>\n",
       "      <td>2014</td>\n",
       "      <td>6</td>\n",
       "      <td>21</td>\n",
       "      <td>172</td>\n",
       "    </tr>\n",
       "    <tr>\n",
       "      <th>6684</th>\n",
       "      <td>2021-06-27</td>\n",
       "      <td>0.0</td>\n",
       "      <td>21.1</td>\n",
       "      <td>1.3</td>\n",
       "      <td>7.0</td>\n",
       "      <td>Mostly cloudy</td>\n",
       "      <td>Kasurila</td>\n",
       "      <td>2021</td>\n",
       "      <td>6</td>\n",
       "      <td>27</td>\n",
       "      <td>178</td>\n",
       "    </tr>\n",
       "    <tr>\n",
       "      <th>3659</th>\n",
       "      <td>2013-03-16</td>\n",
       "      <td>67.0</td>\n",
       "      <td>-14.8</td>\n",
       "      <td>0.2</td>\n",
       "      <td>0.0</td>\n",
       "      <td>Clear</td>\n",
       "      <td>Kasurila</td>\n",
       "      <td>2013</td>\n",
       "      <td>3</td>\n",
       "      <td>16</td>\n",
       "      <td>75</td>\n",
       "    </tr>\n",
       "    <tr>\n",
       "      <th>5807</th>\n",
       "      <td>2019-02-01</td>\n",
       "      <td>49.0</td>\n",
       "      <td>-19.1</td>\n",
       "      <td>0.0</td>\n",
       "      <td>1.0</td>\n",
       "      <td>Clear</td>\n",
       "      <td>Kasurila</td>\n",
       "      <td>2019</td>\n",
       "      <td>2</td>\n",
       "      <td>1</td>\n",
       "      <td>32</td>\n",
       "    </tr>\n",
       "    <tr>\n",
       "      <th>2902</th>\n",
       "      <td>2011-02-18</td>\n",
       "      <td>72.0</td>\n",
       "      <td>-27.9</td>\n",
       "      <td>NaN</td>\n",
       "      <td>0.0</td>\n",
       "      <td>Clear</td>\n",
       "      <td>Kasurila</td>\n",
       "      <td>2011</td>\n",
       "      <td>2</td>\n",
       "      <td>18</td>\n",
       "      <td>49</td>\n",
       "    </tr>\n",
       "    <tr>\n",
       "      <th>2254</th>\n",
       "      <td>2009-05-11</td>\n",
       "      <td>0.0</td>\n",
       "      <td>9.3</td>\n",
       "      <td>0.6</td>\n",
       "      <td>1.0</td>\n",
       "      <td>Clear</td>\n",
       "      <td>Kasurila</td>\n",
       "      <td>2009</td>\n",
       "      <td>5</td>\n",
       "      <td>11</td>\n",
       "      <td>131</td>\n",
       "    </tr>\n",
       "    <tr>\n",
       "      <th>4541</th>\n",
       "      <td>2015-08-15</td>\n",
       "      <td>0.0</td>\n",
       "      <td>14.4</td>\n",
       "      <td>0.9</td>\n",
       "      <td>0.0</td>\n",
       "      <td>Clear</td>\n",
       "      <td>Kasurila</td>\n",
       "      <td>2015</td>\n",
       "      <td>8</td>\n",
       "      <td>15</td>\n",
       "      <td>227</td>\n",
       "    </tr>\n",
       "    <tr>\n",
       "      <th>7766</th>\n",
       "      <td>2024-06-13</td>\n",
       "      <td>0.0</td>\n",
       "      <td>13.3</td>\n",
       "      <td>NaN</td>\n",
       "      <td>7.0</td>\n",
       "      <td>Mostly cloudy</td>\n",
       "      <td>Kasurila</td>\n",
       "      <td>2024</td>\n",
       "      <td>6</td>\n",
       "      <td>13</td>\n",
       "      <td>165</td>\n",
       "    </tr>\n",
       "    <tr>\n",
       "      <th>2379</th>\n",
       "      <td>2009-09-13</td>\n",
       "      <td>0.0</td>\n",
       "      <td>10.3</td>\n",
       "      <td>0.5</td>\n",
       "      <td>0.0</td>\n",
       "      <td>Clear</td>\n",
       "      <td>Kasurila</td>\n",
       "      <td>2009</td>\n",
       "      <td>9</td>\n",
       "      <td>13</td>\n",
       "      <td>256</td>\n",
       "    </tr>\n",
       "    <tr>\n",
       "      <th>3401</th>\n",
       "      <td>2012-07-01</td>\n",
       "      <td>0.0</td>\n",
       "      <td>16.2</td>\n",
       "      <td>0.6</td>\n",
       "      <td>7.0</td>\n",
       "      <td>Mostly cloudy</td>\n",
       "      <td>Kasurila</td>\n",
       "      <td>2012</td>\n",
       "      <td>7</td>\n",
       "      <td>1</td>\n",
       "      <td>183</td>\n",
       "    </tr>\n",
       "    <tr>\n",
       "      <th>3397</th>\n",
       "      <td>2012-06-27</td>\n",
       "      <td>0.0</td>\n",
       "      <td>14.1</td>\n",
       "      <td>1.2</td>\n",
       "      <td>0.0</td>\n",
       "      <td>Clear</td>\n",
       "      <td>Kasurila</td>\n",
       "      <td>2012</td>\n",
       "      <td>6</td>\n",
       "      <td>27</td>\n",
       "      <td>179</td>\n",
       "    </tr>\n",
       "  </tbody>\n",
       "</table>\n",
       "</div>"
      ],
      "text/plain": [
       "           date  snow_depth_cm  avg_temp_c  uv_index  cloud_cover_rate  \\\n",
       "4320 2015-01-06           25.0       -18.4       0.0               0.0   \n",
       "3847 2013-09-20            0.0        13.6       0.1               7.0   \n",
       "1080 2006-02-22           55.0        -9.3       0.1               5.0   \n",
       "4990 2016-11-06            3.0        -7.0       0.0               8.0   \n",
       "4121 2014-06-21            0.0         9.7       1.0               7.0   \n",
       "6684 2021-06-27            0.0        21.1       1.3               7.0   \n",
       "3659 2013-03-16           67.0       -14.8       0.2               0.0   \n",
       "5807 2019-02-01           49.0       -19.1       0.0               1.0   \n",
       "2902 2011-02-18           72.0       -27.9       NaN               0.0   \n",
       "2254 2009-05-11            0.0         9.3       0.6               1.0   \n",
       "4541 2015-08-15            0.0        14.4       0.9               0.0   \n",
       "7766 2024-06-13            0.0        13.3       NaN               7.0   \n",
       "2379 2009-09-13            0.0        10.3       0.5               0.0   \n",
       "3401 2012-07-01            0.0        16.2       0.6               7.0   \n",
       "3397 2012-06-27            0.0        14.1       1.2               0.0   \n",
       "\n",
       "        cloud_cover  location  year  month  day  day_of_year  \n",
       "4320          Clear  Kasurila  2015      1    6            6  \n",
       "3847  Mostly cloudy  Kasurila  2013      9   20          263  \n",
       "1080  Partly cloudy  Kasurila  2006      2   22           53  \n",
       "4990         Cloudy  Kasurila  2016     11    6          311  \n",
       "4121  Mostly cloudy  Kasurila  2014      6   21          172  \n",
       "6684  Mostly cloudy  Kasurila  2021      6   27          178  \n",
       "3659          Clear  Kasurila  2013      3   16           75  \n",
       "5807          Clear  Kasurila  2019      2    1           32  \n",
       "2902          Clear  Kasurila  2011      2   18           49  \n",
       "2254          Clear  Kasurila  2009      5   11          131  \n",
       "4541          Clear  Kasurila  2015      8   15          227  \n",
       "7766  Mostly cloudy  Kasurila  2024      6   13          165  \n",
       "2379          Clear  Kasurila  2009      9   13          256  \n",
       "3401  Mostly cloudy  Kasurila  2012      7    1          183  \n",
       "3397          Clear  Kasurila  2012      6   27          179  "
      ]
     },
     "execution_count": 408,
     "metadata": {},
     "output_type": "execute_result"
    }
   ],
   "source": [
    "df.sample(15)"
   ]
  },
  {
   "cell_type": "code",
   "execution_count": 409,
   "metadata": {},
   "outputs": [
    {
     "data": {
      "text/plain": [
       "cloud_cover\n",
       "Clear                              2370\n",
       "Mostly cloudy                      2097\n",
       "Cloudy                             1864\n",
       "Partly cloudy                       355\n",
       "Mostly clear                        276\n",
       "Cloudiness cannot be determined      76\n",
       "Name: count, dtype: int64"
      ]
     },
     "execution_count": 409,
     "metadata": {},
     "output_type": "execute_result"
    }
   ],
   "source": [
    "df.cloud_cover.value_counts()"
   ]
  },
  {
   "cell_type": "code",
   "execution_count": 410,
   "metadata": {},
   "outputs": [],
   "source": [
    "df.replace(to_replace='-', value=np.nan, inplace=True)"
   ]
  },
  {
   "cell_type": "code",
   "execution_count": 411,
   "metadata": {},
   "outputs": [],
   "source": [
    "df.snow_depth_cm = df.snow_depth_cm.replace(to_replace='-1', value='0')"
   ]
  },
  {
   "cell_type": "code",
   "execution_count": 412,
   "metadata": {},
   "outputs": [
    {
     "data": {
      "text/plain": [
       "cloud_cover\n",
       "Clear                              2370\n",
       "Mostly cloudy                      2097\n",
       "Cloudy                             1864\n",
       "Partly cloudy                       355\n",
       "Mostly clear                        276\n",
       "Cloudiness cannot be determined      76\n",
       "Name: count, dtype: int64"
      ]
     },
     "execution_count": 412,
     "metadata": {},
     "output_type": "execute_result"
    }
   ],
   "source": [
    "df.cloud_cover.value_counts()"
   ]
  },
  {
   "cell_type": "code",
   "execution_count": 413,
   "metadata": {},
   "outputs": [],
   "source": [
    "from xgboost import XGBRegressor\n",
    "from sklearn.model_selection import train_test_split\n",
    "from sklearn.metrics import mean_absolute_error"
   ]
  },
  {
   "cell_type": "code",
   "execution_count": 414,
   "metadata": {},
   "outputs": [
    {
     "data": {
      "text/plain": [
       "Index(['date', 'snow_depth_cm', 'avg_temp_c', 'uv_index', 'cloud_cover_rate',\n",
       "       'cloud_cover', 'location', 'year', 'month', 'day', 'day_of_year'],\n",
       "      dtype='object')"
      ]
     },
     "execution_count": 414,
     "metadata": {},
     "output_type": "execute_result"
    }
   ],
   "source": [
    "df.columns"
   ]
  },
  {
   "cell_type": "code",
   "execution_count": 415,
   "metadata": {},
   "outputs": [
    {
     "data": {
      "text/plain": [
       "date                datetime64[ns]\n",
       "snow_depth_cm              float64\n",
       "avg_temp_c                 float64\n",
       "uv_index                   float64\n",
       "cloud_cover_rate           float64\n",
       "cloud_cover                 object\n",
       "location                    object\n",
       "year                         int32\n",
       "month                        int32\n",
       "day                          int32\n",
       "day_of_year                  int32\n",
       "dtype: object"
      ]
     },
     "execution_count": 415,
     "metadata": {},
     "output_type": "execute_result"
    }
   ],
   "source": [
    "df.dtypes"
   ]
  },
  {
   "cell_type": "code",
   "execution_count": 416,
   "metadata": {},
   "outputs": [
    {
     "data": {
      "text/plain": [
       "avg_temp_c\n",
       " 0.5     53\n",
       " 1.7     49\n",
       " 0.7     49\n",
       " 0.3     45\n",
       " 0.8     44\n",
       "         ..\n",
       "-24.7     1\n",
       "-28.0     1\n",
       "-22.1     1\n",
       " 25.8     1\n",
       "-20.5     1\n",
       "Name: count, Length: 520, dtype: int64"
      ]
     },
     "execution_count": 416,
     "metadata": {},
     "output_type": "execute_result"
    }
   ],
   "source": [
    "df.avg_temp_c.value_counts()"
   ]
  },
  {
   "cell_type": "code",
   "execution_count": 417,
   "metadata": {},
   "outputs": [
    {
     "data": {
      "text/plain": [
       "snow_depth_cm\n",
       "0.0     4198\n",
       "2.0       93\n",
       "3.0       84\n",
       "4.0       78\n",
       "5.0       70\n",
       "        ... \n",
       "85.0       1\n",
       "84.0       1\n",
       "95.0       1\n",
       "93.0       1\n",
       "91.0       1\n",
       "Name: count, Length: 90, dtype: int64"
      ]
     },
     "execution_count": 417,
     "metadata": {},
     "output_type": "execute_result"
    }
   ],
   "source": [
    "df.snow_depth_cm.value_counts()"
   ]
  },
  {
   "cell_type": "code",
   "execution_count": 418,
   "metadata": {},
   "outputs": [],
   "source": [
    "# Remove duplicates\n",
    "combined_df = combined_df.drop_duplicates(subset=['date'], keep='last')"
   ]
  },
  {
   "cell_type": "code",
   "execution_count": 419,
   "metadata": {},
   "outputs": [],
   "source": [
    "combined_df['avg_temp_c'] = pd.to_numeric(combined_df['avg_temp_c'], errors='coerce')\n",
    "combined_df['uv_index'] = pd.to_numeric(combined_df['uv_index'], errors='coerce')"
   ]
  },
  {
   "cell_type": "code",
   "execution_count": 420,
   "metadata": {},
   "outputs": [],
   "source": [
    "combined_df = combined_df.dropna(subset=['avg_temp_c'])\n",
    "combined_df = combined_df.dropna(subset=['snow_depth_cm'])"
   ]
  },
  {
   "cell_type": "code",
   "execution_count": 421,
   "metadata": {},
   "outputs": [],
   "source": [
    "# Only values after 2006\n",
    "selector = combined_df['date'] >= '2006-01-01'\n",
    "combined_df = combined_df[combined_df['date'] >= '2006-01-01']"
   ]
  },
  {
   "cell_type": "code",
   "execution_count": 422,
   "metadata": {},
   "outputs": [],
   "source": [
    "# Create lag features\n",
    "combined_df['snow_depth_1d_ago'] = combined_df.groupby('location')['snow_depth_cm'].shift(1)\n",
    "combined_df['snow_depth_7d_ago'] = combined_df.groupby('location')['snow_depth_cm'].shift(7)\n",
    "combined_df['snow_depth_365d_ago'] = combined_df.groupby('location')['snow_depth_cm'].shift(365)"
   ]
  },
  {
   "cell_type": "code",
   "execution_count": 423,
   "metadata": {},
   "outputs": [],
   "source": [
    "# Convert date string to datetime object\n",
    "combined_df['date'] = pd.to_datetime(combined_df['date'])\n",
    "    \n",
    "# Extract time-based features\n",
    "combined_df['year'] = combined_df['date'].dt.year\n",
    "combined_df['month'] = combined_df['date'].dt.month\n",
    "combined_df['day'] = combined_df['date'].dt.day\n",
    "combined_df['day_of_year'] = combined_df['date'].dt.dayofyear"
   ]
  },
  {
   "cell_type": "code",
   "execution_count": 424,
   "metadata": {},
   "outputs": [
    {
     "data": {
      "text/plain": [
       "['snow_depth_time_model.joblib']"
      ]
     },
     "execution_count": 424,
     "metadata": {},
     "output_type": "execute_result"
    }
   ],
   "source": [
    "# Create an XGBoost regressor model\n",
    "model = XGBRegressor(n_estimators=100, learning_rate=0.1, random_state=42)\n",
    "\n",
    "X = combined_df[['avg_temp_c', \n",
    "                 'cloud_cover_rate',\n",
    "                 'uv_index', \n",
    "                 'snow_depth_1d_ago', \n",
    "                 'snow_depth_7d_ago', \n",
    "                 'snow_depth_365d_ago', \n",
    "                 'year', \n",
    "                 'month', \n",
    "                 'day', \n",
    "                 'day_of_year']]  # Features \n",
    "y = combined_df['snow_depth_cm']  # Target variable (snow depth)\n",
    "\n",
    "# Split into training (80%) and test (20%) data\n",
    "X_train, X_test, y_train, y_test = train_test_split(X, y, test_size=0.2, random_state=42)\n",
    "\n",
    "# Train the model on the training data\n",
    "model.fit(X_train, y_train)\n",
    "\n",
    "joblib.dump(model, 'snow_depth_time_model.joblib')"
   ]
  },
  {
   "cell_type": "code",
   "execution_count": 425,
   "metadata": {},
   "outputs": [],
   "source": [
    "predictions = model.predict(X_test)"
   ]
  },
  {
   "cell_type": "code",
   "execution_count": 426,
   "metadata": {},
   "outputs": [
    {
     "name": "stdout",
     "output_type": "stream",
     "text": [
      "Mean Absolute Error: 0.7622424854641255\n",
      "Mean Squared Error: 2.729005712950477\n"
     ]
    }
   ],
   "source": [
    "from sklearn.metrics import mean_squared_error\n",
    "\n",
    "# Calculate Mean Absolute Error (MAE)\n",
    "mae = mean_absolute_error(y_test, predictions)\n",
    "print(f\"Mean Absolute Error: {mae}\")\n",
    "\n",
    "mse = mean_squared_error(y_test, predictions)\n",
    "print(f\"Mean Squared Error: {mse}\")"
   ]
  },
  {
   "cell_type": "code",
   "execution_count": 427,
   "metadata": {},
   "outputs": [
    {
     "name": "stderr",
     "output_type": "stream",
     "text": [
      "C:\\Users\\NiinaAhola\\AppData\\Local\\Temp\\ipykernel_1188\\1923592957.py:48: FutureWarning: DataFrame.fillna with 'method' is deprecated and will raise in a future version. Use obj.ffill() or obj.bfill() instead.\n",
      "  future_df = future_df.fillna(method='ffill').fillna(method='bfill')\n"
     ]
    }
   ],
   "source": [
    "# Step 5: Function to predict future years\n",
    "def predict_future_snow_depth(model, start_date, days=3650, location_data=None):\n",
    "    \"\"\"\n",
    "    Predict snow depth for future dates\n",
    "    \n",
    "    Parameters:\n",
    "    - model: Trained model\n",
    "    - start_date: Start date for predictions (string YYYY-MM-DD or datetime)\n",
    "    - days: Number of days to predict forward\n",
    "    - location_data: Sample data from a location to use as base values\n",
    "    \n",
    "    Returns:\n",
    "    - DataFrame with dates and predicted snow depths\n",
    "    \"\"\"\n",
    "    if isinstance(start_date, str):\n",
    "        start_date = pd.to_datetime(start_date)\n",
    "    \n",
    "    # Create date range\n",
    "    future_dates = [start_date + timedelta(days=i) for i in range(days)]\n",
    "    future_df = pd.DataFrame({'date': future_dates})\n",
    "    # Create lag features\n",
    "\n",
    "    future_df['snow_depth_1d_ago'] = combined_df.groupby('location')['snow_depth_cm'].shift(1)\n",
    "\n",
    "    future_df['snow_depth_7d_ago'] = combined_df.groupby('location')['snow_depth_cm'].shift(7)\n",
    "\n",
    "    future_df['snow_depth_365d_ago'] = combined_df.groupby('location')['snow_depth_cm'].shift(365)\n",
    "    \n",
    "    # Extract time features\n",
    "    future_df['year'] = future_df['date'].dt.year\n",
    "    future_df['month'] = future_df['date'].dt.month\n",
    "    future_df['day'] = future_df['date'].dt.day\n",
    "    future_df['day_of_year'] = future_df['date'].dt.dayofyear\n",
    "    \n",
    "    # Generate weather features based on historical averages by day of year\n",
    "    if location_data is not None:\n",
    "        # Group location data by day of year and get averages\n",
    "        daily_averages = location_data.groupby('day_of_year').agg({\n",
    "            'avg_temp_c': 'mean',\n",
    "            'uv_index': 'mean',\n",
    "            'cloud_cover_rate': 'mean'\n",
    "        }).reset_index()\n",
    "        \n",
    "        # Merge with future dates\n",
    "        future_df = future_df.merge(daily_averages, on='day_of_year', how='left')\n",
    "        \n",
    "        # For days not in historical data, use nearest day\n",
    "        future_df = future_df.fillna(method='ffill').fillna(method='bfill')\n",
    "    else:\n",
    "        # If no location data is provided, use seasonal patterns\n",
    "        # This is simplified - would be better with actual historical weather data\n",
    "        future_df['month_rad'] = future_df['month'] * 2 * np.pi / 12\n",
    "        \n",
    "        # Temperature follows seasonal cycle (simplified model)\n",
    "        # Northern hemisphere: coldest in Jan/Feb, warmest in Jul/Aug\n",
    "        future_df['avg_temp_c'] = -10 * np.cos(future_df['month_rad']) + 5\n",
    "        \n",
    "        # UV follows similar seasonal pattern\n",
    "        future_df['uv_index'] = 3 * np.cos((future_df['month_rad'] + np.pi)) + 3\n",
    "        \n",
    "        # Cloud cover (simplified)\n",
    "        future_df['cloud_cover_rate'] = 0.5 + 0.2 * np.sin(future_df['month_rad'])\n",
    "    \n",
    "    # Prepare features for prediction in the same format as training data\n",
    "    X_future = future_df[['avg_temp_c', \n",
    "                          'cloud_cover_rate',\n",
    "                          'uv_index', \n",
    "                          'snow_depth_1d_ago', \n",
    "                          'snow_depth_7d_ago', \n",
    "                          'snow_depth_365d_ago', \n",
    "                          'year', \n",
    "                          'month', \n",
    "                          'day', \n",
    "                          'day_of_year']]\n",
    "    \n",
    "    # Make predictions\n",
    "    future_df['predicted_snow_depth'] = model.predict(X_future)\n",
    "    \n",
    "    # Ensure non-negative snow depths\n",
    "    future_df['predicted_snow_depth'] = future_df['predicted_snow_depth'].clip(lower=0)\n",
    "    \n",
    "    return future_df[['date', \n",
    "                      'predicted_snow_depth', \n",
    "                      'avg_temp_c', \n",
    "                      'uv_index', \n",
    "                      'cloud_cover_rate']]\n",
    "\n",
    "# Example usage:\n",
    "# 1. Load a sample location dataset for reference weather patterns\n",
    "sample_location_salla = preprocess_with_time_features('data_by_location/Messila_data.csv')\n",
    "\n",
    "# 2. Load the trained model\n",
    "trained_model = joblib.load('snow_depth_time_model.joblib')\n",
    "\n",
    "# 3. Predict snow depth for next year starting from a specific date\n",
    "start_prediction_date = '2005-01-01'\n",
    "future_predictions_salla = predict_future_snow_depth(\n",
    "    model=trained_model,\n",
    "    start_date=start_prediction_date,\n",
    "    days=365*40,\n",
    "    location_data=sample_location_salla\n",
    ")\n",
    "future_predictions_salla['location'] = 'Messilä'"
   ]
  },
  {
   "cell_type": "code",
   "execution_count": 428,
   "metadata": {},
   "outputs": [
    {
     "name": "stdout",
     "output_type": "stream",
     "text": [
      "Future predictions saved csv-file\n"
     ]
    }
   ],
   "source": [
    "future_predictions_salla.to_csv('snow_depth_predictions_messila_2025.csv', index=False)\n",
    "print(\"Future predictions saved csv-file\")"
   ]
  }
 ],
 "metadata": {
  "kernelspec": {
   "display_name": "Python 3",
   "language": "python",
   "name": "python3"
  },
  "language_info": {
   "codemirror_mode": {
    "name": "ipython",
    "version": 3
   },
   "file_extension": ".py",
   "mimetype": "text/x-python",
   "name": "python",
   "nbconvert_exporter": "python",
   "pygments_lexer": "ipython3",
   "version": "3.13.1"
  }
 },
 "nbformat": 4,
 "nbformat_minor": 2
}
