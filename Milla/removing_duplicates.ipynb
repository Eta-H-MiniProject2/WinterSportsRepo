{
 "cells": [
  {
   "cell_type": "code",
   "execution_count": 7,
   "metadata": {},
   "outputs": [],
   "source": [
    "import pandas as pd"
   ]
  },
  {
   "cell_type": "code",
   "execution_count": 8,
   "metadata": {},
   "outputs": [
    {
     "data": {
      "text/html": [
       "<div>\n",
       "<style scoped>\n",
       "    .dataframe tbody tr th:only-of-type {\n",
       "        vertical-align: middle;\n",
       "    }\n",
       "\n",
       "    .dataframe tbody tr th {\n",
       "        vertical-align: top;\n",
       "    }\n",
       "\n",
       "    .dataframe thead th {\n",
       "        text-align: right;\n",
       "    }\n",
       "</style>\n",
       "<table border=\"1\" class=\"dataframe\">\n",
       "  <thead>\n",
       "    <tr style=\"text-align: right;\">\n",
       "      <th></th>\n",
       "      <th>date</th>\n",
       "      <th>snow_depth_cm</th>\n",
       "      <th>avg_temp_c</th>\n",
       "      <th>cloud_cover_rate</th>\n",
       "      <th>cloud_cover</th>\n",
       "      <th>row_order</th>\n",
       "    </tr>\n",
       "  </thead>\n",
       "  <tbody>\n",
       "    <tr>\n",
       "      <th>0</th>\n",
       "      <td>2003-03-10</td>\n",
       "      <td>70</td>\n",
       "      <td>0</td>\n",
       "      <td>NaN</td>\n",
       "      <td>-</td>\n",
       "      <td>0</td>\n",
       "    </tr>\n",
       "    <tr>\n",
       "      <th>1</th>\n",
       "      <td>2003-03-11</td>\n",
       "      <td>70</td>\n",
       "      <td>0.4</td>\n",
       "      <td>NaN</td>\n",
       "      <td>-</td>\n",
       "      <td>1</td>\n",
       "    </tr>\n",
       "    <tr>\n",
       "      <th>2</th>\n",
       "      <td>2003-03-12</td>\n",
       "      <td>77</td>\n",
       "      <td>-3.6</td>\n",
       "      <td>NaN</td>\n",
       "      <td>-</td>\n",
       "      <td>2</td>\n",
       "    </tr>\n",
       "    <tr>\n",
       "      <th>3</th>\n",
       "      <td>2003-03-13</td>\n",
       "      <td>77</td>\n",
       "      <td>-9.3</td>\n",
       "      <td>NaN</td>\n",
       "      <td>-</td>\n",
       "      <td>3</td>\n",
       "    </tr>\n",
       "    <tr>\n",
       "      <th>4</th>\n",
       "      <td>2003-03-14</td>\n",
       "      <td>76</td>\n",
       "      <td>1.7</td>\n",
       "      <td>NaN</td>\n",
       "      <td>-</td>\n",
       "      <td>4</td>\n",
       "    </tr>\n",
       "    <tr>\n",
       "      <th>...</th>\n",
       "      <td>...</td>\n",
       "      <td>...</td>\n",
       "      <td>...</td>\n",
       "      <td>...</td>\n",
       "      <td>...</td>\n",
       "      <td>...</td>\n",
       "    </tr>\n",
       "    <tr>\n",
       "      <th>9859</th>\n",
       "      <td>2025-03-06</td>\n",
       "      <td>42</td>\n",
       "      <td>-3.3</td>\n",
       "      <td>8.0</td>\n",
       "      <td>Cloudy</td>\n",
       "      <td>9859</td>\n",
       "    </tr>\n",
       "    <tr>\n",
       "      <th>9860</th>\n",
       "      <td>2025-03-07</td>\n",
       "      <td>41</td>\n",
       "      <td>-6</td>\n",
       "      <td>7.0</td>\n",
       "      <td>Mostly cloudy</td>\n",
       "      <td>9860</td>\n",
       "    </tr>\n",
       "    <tr>\n",
       "      <th>9861</th>\n",
       "      <td>2025-03-08</td>\n",
       "      <td>46</td>\n",
       "      <td>-2.4</td>\n",
       "      <td>3.0</td>\n",
       "      <td>Mostly clear</td>\n",
       "      <td>9861</td>\n",
       "    </tr>\n",
       "    <tr>\n",
       "      <th>9862</th>\n",
       "      <td>2025-03-09</td>\n",
       "      <td>49</td>\n",
       "      <td>-3.7</td>\n",
       "      <td>8.0</td>\n",
       "      <td>Cloudy</td>\n",
       "      <td>9862</td>\n",
       "    </tr>\n",
       "    <tr>\n",
       "      <th>9863</th>\n",
       "      <td>2025-03-10</td>\n",
       "      <td>48</td>\n",
       "      <td>-</td>\n",
       "      <td>7.0</td>\n",
       "      <td>Mostly cloudy</td>\n",
       "      <td>9863</td>\n",
       "    </tr>\n",
       "  </tbody>\n",
       "</table>\n",
       "<p>9864 rows × 6 columns</p>\n",
       "</div>"
      ],
      "text/plain": [
       "            date snow_depth_cm avg_temp_c  cloud_cover_rate    cloud_cover  \\\n",
       "0     2003-03-10            70          0               NaN              -   \n",
       "1     2003-03-11            70        0.4               NaN              -   \n",
       "2     2003-03-12            77       -3.6               NaN              -   \n",
       "3     2003-03-13            77       -9.3               NaN              -   \n",
       "4     2003-03-14            76        1.7               NaN              -   \n",
       "...          ...           ...        ...               ...            ...   \n",
       "9859  2025-03-06            42       -3.3               8.0         Cloudy   \n",
       "9860  2025-03-07            41         -6               7.0  Mostly cloudy   \n",
       "9861  2025-03-08            46       -2.4               3.0   Mostly clear   \n",
       "9862  2025-03-09            49       -3.7               8.0         Cloudy   \n",
       "9863  2025-03-10            48          -               7.0  Mostly cloudy   \n",
       "\n",
       "      row_order  \n",
       "0             0  \n",
       "1             1  \n",
       "2             2  \n",
       "3             3  \n",
       "4             4  \n",
       "...         ...  \n",
       "9859       9859  \n",
       "9860       9860  \n",
       "9861       9861  \n",
       "9862       9862  \n",
       "9863       9863  \n",
       "\n",
       "[9864 rows x 6 columns]"
      ]
     },
     "execution_count": 8,
     "metadata": {},
     "output_type": "execute_result"
    }
   ],
   "source": [
    "purnu_df = pd.read_csv(\"Purnu_data.csv\")\n",
    "ruka_df = pd.read_csv(\"Ruka_data.csv\")\n",
    "purnu_df\n",
    "ruka_df"
   ]
  },
  {
   "cell_type": "code",
   "execution_count": 9,
   "metadata": {},
   "outputs": [
    {
     "name": "stdout",
     "output_type": "stream",
     "text": [
      "Purnu duplikaatit: 9498\n",
      "Ruka duplikaatit: 3654\n"
     ]
    }
   ],
   "source": [
    "# Tarkista duplikaatit päivämäärien mukaan\n",
    "purnu_duplicates = purnu_df[purnu_df.duplicated(subset=['date'], keep=False)]\n",
    "ruka_duplicates = ruka_df[ruka_df.duplicated(subset=['date'], keep=False)]\n",
    "\n",
    "print(f\"Purnu duplikaatit: {len(purnu_duplicates)}\")\n",
    "print(f\"Ruka duplikaatit: {len(ruka_duplicates)}\")"
   ]
  },
  {
   "cell_type": "code",
   "execution_count": 10,
   "metadata": {},
   "outputs": [
    {
     "data": {
      "text/plain": [
       "(12786, 6)"
      ]
     },
     "execution_count": 10,
     "metadata": {},
     "output_type": "execute_result"
    }
   ],
   "source": [
    "purnu_df.shape"
   ]
  },
  {
   "cell_type": "code",
   "execution_count": 11,
   "metadata": {},
   "outputs": [
    {
     "name": "stdout",
     "output_type": "stream",
     "text": [
      "Duplikaatit poistettu molemmista tiedostoista.\n"
     ]
    }
   ],
   "source": [
    "import pandas as pd\n",
    "\n",
    "# Lue tiedostot\n",
    "purnu_df = pd.read_csv(\"Purnu_data.csv\")\n",
    "ruka_df = pd.read_csv(\"Ruka_data.csv\")\n",
    "\n",
    "# Poistetaan duplikaatit päivämäärän perusteella ja säilytetään **viimeinen** rivi (alempi)\n",
    "purnu_df = purnu_df.drop_duplicates(subset=['date'], keep='last')\n",
    "\n",
    "ruka_df = ruka_df.drop_duplicates(subset=['date'], keep='last')\n",
    "\n",
    "# Tallenna tiedostot takaisin, jos haluat\n",
    "purnu_df.to_csv(\"Purnu_cleaned.csv\", index=False)\n",
    "ruka_df.to_csv(\"Ruka_cleaned.csv\", index=False)\n",
    "\n",
    "print(\"Duplikaatit poistettu molemmista tiedostoista.\")\n"
   ]
  },
  {
   "cell_type": "code",
   "execution_count": 12,
   "metadata": {},
   "outputs": [
    {
     "data": {
      "text/plain": [
       "(8037, 6)"
      ]
     },
     "execution_count": 12,
     "metadata": {},
     "output_type": "execute_result"
    }
   ],
   "source": [
    "purnu_df.shape"
   ]
  },
  {
   "cell_type": "code",
   "execution_count": 13,
   "metadata": {},
   "outputs": [
    {
     "name": "stdout",
     "output_type": "stream",
     "text": [
      "Purnu duplikaatit 'cleaned' kansiossa: 0\n",
      "Ruka duplikaatit 'cleaned' kansiossa: 0\n"
     ]
    }
   ],
   "source": [
    "import pandas as pd\n",
    "\n",
    "# Lue \"cleaned\" kansiosta Purnu_cleaned.csv ja Ruka_cleaned.csv\n",
    "purnu_cleaned_df = pd.read_csv(\"Purnu_cleaned.csv\")\n",
    "ruka_cleaned_df = pd.read_csv(\"Ruka_cleaned.csv\")\n",
    "\n",
    "# Tarkista duplikaatit kummassakin DataFramessa (perustuu päivämäärään 'date')\n",
    "purnu_cleaned_duplicates = purnu_cleaned_df[purnu_cleaned_df.duplicated(subset=['date'], keep=False)]\n",
    "ruka_cleaned_duplicates = ruka_cleaned_df[ruka_cleaned_df.duplicated(subset=['date'], keep=False)]\n",
    "\n",
    "# Tulosta duplikaattien määrä kummassakin DataFramessa\n",
    "print(f\"Purnu duplikaatit 'cleaned' kansiossa: {len(purnu_cleaned_duplicates)}\")\n",
    "print(f\"Ruka duplikaatit 'cleaned' kansiossa: {len(ruka_cleaned_duplicates)}\")\n"
   ]
  }
 ],
 "metadata": {
  "kernelspec": {
   "display_name": "Python 3",
   "language": "python",
   "name": "python3"
  },
  "language_info": {
   "codemirror_mode": {
    "name": "ipython",
    "version": 3
   },
   "file_extension": ".py",
   "mimetype": "text/x-python",
   "name": "python",
   "nbconvert_exporter": "python",
   "pygments_lexer": "ipython3",
   "version": "3.13.1"
  }
 },
 "nbformat": 4,
 "nbformat_minor": 2
}
