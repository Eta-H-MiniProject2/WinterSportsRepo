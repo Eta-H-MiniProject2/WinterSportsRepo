{
 "cells": [
  {
   "cell_type": "code",
   "execution_count": 4,
   "metadata": {},
   "outputs": [
    {
     "name": "stdout",
     "output_type": "stream",
     "text": [
      "     Observation station  Year  Month  Day Time [Local time]  \\\n",
      "0      Sodankylä Tähtelä  2004      3   10             00:00   \n",
      "1      Sodankylä Tähtelä  2004      3   11             00:00   \n",
      "2      Sodankylä Tähtelä  2004      3   12             00:00   \n",
      "3      Sodankylä Tähtelä  2004      3   13             00:00   \n",
      "4      Sodankylä Tähtelä  2004      3   14             00:00   \n",
      "...                  ...   ...    ...  ...               ...   \n",
      "4744   Sodankylä Tähtelä  2025      3    6             00:00   \n",
      "4745   Sodankylä Tähtelä  2025      3    7             00:00   \n",
      "4746   Sodankylä Tähtelä  2025      3    8             00:00   \n",
      "4747   Sodankylä Tähtelä  2025      3    9             00:00   \n",
      "4748   Sodankylä Tähtelä  2025      3   10             00:00   \n",
      "\n",
      "     Direct solar radiation mean [W/m2]  \n",
      "0                                 125.4  \n",
      "1                                 275.5  \n",
      "2                                   2.4  \n",
      "3                                 138.3  \n",
      "4                                  81.7  \n",
      "...                                 ...  \n",
      "4744                                0.4  \n",
      "4745                              231.7  \n",
      "4746                               -0.2  \n",
      "4747                              184.2  \n",
      "4748                              102.5  \n",
      "\n",
      "[4749 rows x 6 columns]\n"
     ]
    }
   ],
   "source": [
    "import pandas as pd\n",
    "\n",
    "combined_df = pd.concat( \n",
    "    map(pd.read_csv, ['Sodankylä Tähtelä_ 10.3.2004 - 10.3.2005.csv', 'Sodankylä Tähtelä_ 11.3.2005 - 10.3.2006.csv', 'Sodankylä Tähtelä_ 11.3.2006 - 10.3.2007.csv', 'Sodankylä Tähtelä_ 11.3.2007 - 10.3.2008.csv', 'Sodankylä Tähtelä_ 11.3.2008 - 10.3.2009.csv', 'Sodankylä Tähtelä_ 11.3.2009 - 10.3.2010.csv', 'Sodankylä Tähtelä_ 11.3.2010 - 10.3.2011.csv', 'Sodankylä Tähtelä_ 11.3.2011 - 10.3.2012.csv', 'Sodankylä Tähtelä_ 11.3.2012 - 10.3.2013.csv', 'Sodankylä Tähtelä_ 11.3.2021 - 10.3.2022.csv', 'Sodankylä Tähtelä_ 11.3.2022 - 10.3.2023.csv', 'Sodankylä Tähtelä_ 11.3.2023 - 10.3.2024.csv', 'Sodankylä Tähtelä_ 11.3.2024 - 10.3.2025.csv']), ignore_index=True) \n",
    "print(combined_df) \n",
    "\n",
    "combined_df.to_csv('sodankyla_solar_years_combined.csv', index=False)\n"
   ]
  }
 ],
 "metadata": {
  "kernelspec": {
   "display_name": "Python 3",
   "language": "python",
   "name": "python3"
  },
  "language_info": {
   "codemirror_mode": {
    "name": "ipython",
    "version": 3
   },
   "file_extension": ".py",
   "mimetype": "text/x-python",
   "name": "python",
   "nbconvert_exporter": "python",
   "pygments_lexer": "ipython3",
   "version": "3.13.1"
  }
 },
 "nbformat": 4,
 "nbformat_minor": 2
}
