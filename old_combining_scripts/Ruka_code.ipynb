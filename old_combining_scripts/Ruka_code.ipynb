{
 "cells": [
  {
   "cell_type": "code",
   "execution_count": 1,
   "metadata": {},
   "outputs": [
    {
     "name": "stdout",
     "output_type": "stream",
     "text": [
      "Salla Parish -tiedot lisätty onnistuneesti!\n"
     ]
    }
   ],
   "source": [
    "import pandas as pd\n",
    "\n",
    "# Tiedostopolut\n",
    "ruka_path = r\"C:\\Users\\vuojo\\WinterSportsRepo\\cloud_coverage_by_location\\Ruka_cloud_coverage.csv\"\n",
    "sallap_path = r\"C:\\Users\\vuojo\\WinterSportsRepo\\cloud_coverage_by_location\\Salla parish_ 11.3.2004 - 11.3.2009_949bb6f7-30b7-4b6e-bb34-72a080afeb2a.csv\"\n",
    "\n",
    "\n",
    "# Ladataan tiedostot\n",
    "df_ruka = pd.read_csv(ruka_path)\n",
    "df_sallap = pd.read_csv(sallap_path)\n",
    "\n",
    "# Yhdistetään tiedot\n",
    "df_purnu = pd.concat([df_ruka, df_sallap], ignore_index=True)\n",
    "\n",
    "# Tallennetaan takaisin\n",
    "df_purnu.to_csv(ruka_path, index=False)\n",
    "\n",
    "print(\"Salla Parish -tiedot lisätty onnistuneesti!\")"
   ]
  }
 ],
 "metadata": {
  "kernelspec": {
   "display_name": "Python 3",
   "language": "python",
   "name": "python3"
  },
  "language_info": {
   "codemirror_mode": {
    "name": "ipython",
    "version": 3
   },
   "file_extension": ".py",
   "mimetype": "text/x-python",
   "name": "python",
   "nbconvert_exporter": "python",
   "pygments_lexer": "ipython3",
   "version": "3.13.1"
  }
 },
 "nbformat": 4,
 "nbformat_minor": 2
}
