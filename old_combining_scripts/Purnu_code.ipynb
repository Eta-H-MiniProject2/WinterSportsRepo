{
 "cells": [
  {
   "cell_type": "code",
   "execution_count": 4,
   "metadata": {},
   "outputs": [
    {
     "name": "stdout",
     "output_type": "stream",
     "text": [
      "Vanha Lahti Laune -data poistettu onnistuneesti!\n"
     ]
    }
   ],
   "source": [
    "# POISTETAAN LAHTI LAUNE VANHASTA Purnu_cloud_coverage.csv \n",
    "\n",
    "import os\n",
    "import pandas as pd\n",
    "\n",
    "# Määritetään hakemisto, jossa tiedosto sijaitsee\n",
    "base_dir = r\"C:\\Users\\vuojo\\WinterSportsRepo\\cloud_coverage_by_location\"\n",
    "\n",
    "# Määritetään tiedoston nimi\n",
    "purnu_file = os.path.join(base_dir, \"Purnu_cloud_coverage.csv\")\n",
    "\n",
    "# Ladataan CSV tiedostoksi\n",
    "df_purnu = pd.read_csv(purnu_file)\n",
    "\n",
    "# Poistetaan kaikki rivit, joissa \"Observation station\" on \"Lahti Laune\"\n",
    "df_purnu_cleaned = df_purnu[df_purnu[\"Observation station\"] != \"Lahti Laune\"]\n",
    "\n",
    "# Tallennetaan puhdistettu CSV-tiedosto (ylikirjoitetaan vanha)\n",
    "df_purnu_cleaned.to_csv(purnu_file, index=False)\n",
    "\n",
    "print(\"Vanha Lahti Laune -data poistettu onnistuneesti!\")\n"
   ]
  },
  {
   "cell_type": "code",
   "execution_count": 5,
   "metadata": {},
   "outputs": [
    {
     "name": "stdout",
     "output_type": "stream",
     "text": [
      "Lahti Laune -tiedot lisätty onnistuneesti!\n"
     ]
    }
   ],
   "source": [
    "import pandas as pd\n",
    "\n",
    "# Tiedostopolut\n",
    "purnu_path = r\"C:\\Users\\vuojo\\WinterSportsRepo\\cloud_coverage_by_location\\Purnu_cloud_coverage.csv\"\n",
    "lahti_path = r\"C:\\Users\\vuojo\\WinterSportsRepo\\cloud_coverage_by_location\\Lahti Laune_ 11.3.2004 - 11.3.2017_2d0e2485-51f1-4d81-8d05-ea21bcf74ddc.csv\"\n",
    "\n",
    "\n",
    "# Ladataan tiedostot\n",
    "df_purnu = pd.read_csv(purnu_path)\n",
    "df_lahti = pd.read_csv(lahti_path)\n",
    "\n",
    "# Yhdistetään tiedot\n",
    "df_purnu = pd.concat([df_purnu, df_lahti], ignore_index=True)\n",
    "\n",
    "# Tallennetaan takaisin\n",
    "df_purnu.to_csv(purnu_path, index=False)\n",
    "\n",
    "print(\"Lahti Laune -tiedot lisätty onnistuneesti!\")"
   ]
  }
 ],
 "metadata": {
  "kernelspec": {
   "display_name": "Python 3",
   "language": "python",
   "name": "python3"
  },
  "language_info": {
   "codemirror_mode": {
    "name": "ipython",
    "version": 3
   },
   "file_extension": ".py",
   "mimetype": "text/x-python",
   "name": "python",
   "nbconvert_exporter": "python",
   "pygments_lexer": "ipython3",
   "version": "3.13.1"
  }
 },
 "nbformat": 4,
 "nbformat_minor": 2
}
